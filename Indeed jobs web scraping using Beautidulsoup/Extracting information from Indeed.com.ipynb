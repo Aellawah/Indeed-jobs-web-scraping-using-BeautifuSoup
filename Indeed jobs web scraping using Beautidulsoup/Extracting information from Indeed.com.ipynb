{
 "cells": [
  {
   "cell_type": "markdown",
   "metadata": {},
   "source": [
    "### Extracting information from Indeed.com"
   ]
  },
  {
   "cell_type": "code",
   "execution_count": 2,
   "metadata": {},
   "outputs": [],
   "source": [
    "#import libraries\n",
    "import requests\n",
    "import re \n",
    "from bs4 import BeautifulSoup\n",
    "import csv\n",
    "from itertools import zip_longest\n",
    "import pandas as pd\n",
    "\n",
    "job_title=[]\n",
    "company=[]\n",
    "location=[]\n",
    "link=[]\n",
    "page_num=0"
   ]
  },
  {
   "cell_type": "code",
   "execution_count": 3,
   "metadata": {},
   "outputs": [
    {
     "name": "stdout",
     "output_type": "stream",
     "text": [
      "Page switched\n",
      "Page switched\n",
      "Page switched\n",
      "Page switched\n",
      "Page switched\n",
      "Page switched\n",
      "Page switched\n",
      "Page switched\n",
      "Page switched\n",
      "Page switched\n",
      "Page switched\n",
      "Page switched\n",
      "Page switched\n",
      "Page switched\n",
      "Page switched\n",
      "Page switched\n",
      "Page switched\n",
      "Pages ended,terminate\n"
     ]
    }
   ],
   "source": [
    "while True:\n",
    "    result=requests.get(f\"https://ae.indeed.com/jobs?q=python&l=Dubai&start={page_num}\")\n",
    "    src=result.content\n",
    "    soup=BeautifulSoup(src,'lxml')\n",
    "\n",
    "    page_limit=254\n",
    "\n",
    "    if (page_num>page_limit//15):\n",
    "        print('Pages ended,terminate')\n",
    "        break\n",
    "\n",
    "    job_titles=soup.find_all('h2',attrs={'class':re.compile(r\"jobTitle jobTitle-color-purple jobTitle-newJob|jobTitle jobTitle-color-purple\")})\n",
    "    companies=soup.find_all('span',class_='companyName')\n",
    "    locations=soup.find_all('div',class_='companyLocation')\n",
    "    links=soup.findAll('a',{'target':'_blank'})\n",
    "\n",
    "    for i in range(len(job_titles)):\n",
    "        job_title.append(job_titles[i].text)\n",
    "        company.append(companies[i].text)\n",
    "        location.append(locations[i].text)\n",
    "        link.append(f'https://www.indeed.com{links[i].attrs[\"href\"]}')\n",
    "        \n",
    "    page_num+=1\n",
    "    print(\"Page switched\")"
   ]
  },
  {
   "cell_type": "code",
   "execution_count": 4,
   "metadata": {},
   "outputs": [],
   "source": [
    "#put our info in a dictionary\n",
    "dict = {'job_title': job_title, 'company': company, 'location': location , 'link':link} "
   ]
  },
  {
   "cell_type": "code",
   "execution_count": 5,
   "metadata": {
    "scrolled": true
   },
   "outputs": [],
   "source": [
    "#Convert the dictionary into a dataframe\n",
    "df = pd.DataFrame(dict)"
   ]
  },
  {
   "cell_type": "code",
   "execution_count": 6,
   "metadata": {
    "scrolled": true
   },
   "outputs": [
    {
     "data": {
      "text/html": [
       "<div>\n",
       "<style scoped>\n",
       "    .dataframe tbody tr th:only-of-type {\n",
       "        vertical-align: middle;\n",
       "    }\n",
       "\n",
       "    .dataframe tbody tr th {\n",
       "        vertical-align: top;\n",
       "    }\n",
       "\n",
       "    .dataframe thead th {\n",
       "        text-align: right;\n",
       "    }\n",
       "</style>\n",
       "<table border=\"1\" class=\"dataframe\">\n",
       "  <thead>\n",
       "    <tr style=\"text-align: right;\">\n",
       "      <th></th>\n",
       "      <th>job_title</th>\n",
       "      <th>company</th>\n",
       "      <th>location</th>\n",
       "      <th>link</th>\n",
       "    </tr>\n",
       "  </thead>\n",
       "  <tbody>\n",
       "    <tr>\n",
       "      <th>0</th>\n",
       "      <td>newFreelance Python Trainers</td>\n",
       "      <td>SPOTON TRAINING INSTITUTE</td>\n",
       "      <td>Dubai</td>\n",
       "      <td>https://www.indeed.com/company/SPOTON-TRAINING...</td>\n",
       "    </tr>\n",
       "    <tr>\n",
       "      <th>1</th>\n",
       "      <td>newPython Django Developer</td>\n",
       "      <td>Desert Group Dubai</td>\n",
       "      <td>Dubai</td>\n",
       "      <td>https://www.indeed.com/company/Desert-Group-Du...</td>\n",
       "    </tr>\n",
       "    <tr>\n",
       "      <th>2</th>\n",
       "      <td>PYTHON DEVELOPER</td>\n",
       "      <td>SenseMi</td>\n",
       "      <td>Jumeirah</td>\n",
       "      <td>https://www.indeed.com/company/SenseMi/jobs/Py...</td>\n",
       "    </tr>\n",
       "    <tr>\n",
       "      <th>3</th>\n",
       "      <td>Python Developer</td>\n",
       "      <td>Stallion HR Solutions</td>\n",
       "      <td>Dubai</td>\n",
       "      <td>https://www.indeed.com/company/Stallion-HR-Sol...</td>\n",
       "    </tr>\n",
       "    <tr>\n",
       "      <th>4</th>\n",
       "      <td>Chief Technology Officer - CTO</td>\n",
       "      <td>Via Dubai</td>\n",
       "      <td>Dubai</td>\n",
       "      <td>https://www.indeed.com/company/Via-Dubai/jobs/...</td>\n",
       "    </tr>\n",
       "    <tr>\n",
       "      <th>...</th>\n",
       "      <td>...</td>\n",
       "      <td>...</td>\n",
       "      <td>...</td>\n",
       "      <td>...</td>\n",
       "    </tr>\n",
       "    <tr>\n",
       "      <th>235</th>\n",
       "      <td>PHP Developer</td>\n",
       "      <td>Blue Hat HR Services</td>\n",
       "      <td>Dubai•Remote</td>\n",
       "      <td>https://www.indeed.com/cmp/Shubbak-Technologie...</td>\n",
       "    </tr>\n",
       "    <tr>\n",
       "      <th>236</th>\n",
       "      <td>Data Scientist</td>\n",
       "      <td>Scancruit</td>\n",
       "      <td>Dubai</td>\n",
       "      <td>https://www.indeed.com/rc/clk?jk=57f21992e6eb4...</td>\n",
       "    </tr>\n",
       "    <tr>\n",
       "      <th>237</th>\n",
       "      <td>Analyst - Cyber Defense</td>\n",
       "      <td>KPMG</td>\n",
       "      <td>Dubai</td>\n",
       "      <td>https://www.indeed.com/company/Blue-Hat-HR-Ser...</td>\n",
       "    </tr>\n",
       "    <tr>\n",
       "      <th>238</th>\n",
       "      <td>Electronics Engineer</td>\n",
       "      <td>BIRI GROUP</td>\n",
       "      <td>Dubai</td>\n",
       "      <td>https://www.indeed.com/rc/clk?jk=a414da89a3429...</td>\n",
       "    </tr>\n",
       "    <tr>\n",
       "      <th>239</th>\n",
       "      <td>Odoo Developer</td>\n",
       "      <td>Teenets Technologies LLC</td>\n",
       "      <td>Dubai</td>\n",
       "      <td>https://www.indeed.com/rc/clk?jk=f179c333e54d0...</td>\n",
       "    </tr>\n",
       "  </tbody>\n",
       "</table>\n",
       "<p>240 rows × 4 columns</p>\n",
       "</div>"
      ],
      "text/plain": [
       "                          job_title                    company      location  \\\n",
       "0      newFreelance Python Trainers  SPOTON TRAINING INSTITUTE         Dubai   \n",
       "1        newPython Django Developer         Desert Group Dubai         Dubai   \n",
       "2                  PYTHON DEVELOPER                    SenseMi      Jumeirah   \n",
       "3                  Python Developer      Stallion HR Solutions         Dubai   \n",
       "4    Chief Technology Officer - CTO                  Via Dubai         Dubai   \n",
       "..                              ...                        ...           ...   \n",
       "235                   PHP Developer       Blue Hat HR Services  Dubai•Remote   \n",
       "236                  Data Scientist                  Scancruit         Dubai   \n",
       "237         Analyst - Cyber Defense                       KPMG         Dubai   \n",
       "238            Electronics Engineer                 BIRI GROUP         Dubai   \n",
       "239                  Odoo Developer   Teenets Technologies LLC         Dubai   \n",
       "\n",
       "                                                  link  \n",
       "0    https://www.indeed.com/company/SPOTON-TRAINING...  \n",
       "1    https://www.indeed.com/company/Desert-Group-Du...  \n",
       "2    https://www.indeed.com/company/SenseMi/jobs/Py...  \n",
       "3    https://www.indeed.com/company/Stallion-HR-Sol...  \n",
       "4    https://www.indeed.com/company/Via-Dubai/jobs/...  \n",
       "..                                                 ...  \n",
       "235  https://www.indeed.com/cmp/Shubbak-Technologie...  \n",
       "236  https://www.indeed.com/rc/clk?jk=57f21992e6eb4...  \n",
       "237  https://www.indeed.com/company/Blue-Hat-HR-Ser...  \n",
       "238  https://www.indeed.com/rc/clk?jk=a414da89a3429...  \n",
       "239  https://www.indeed.com/rc/clk?jk=f179c333e54d0...  \n",
       "\n",
       "[240 rows x 4 columns]"
      ]
     },
     "execution_count": 6,
     "metadata": {},
     "output_type": "execute_result"
    }
   ],
   "source": [
    "#checking results\n",
    "df"
   ]
  },
  {
   "cell_type": "code",
   "execution_count": 7,
   "metadata": {},
   "outputs": [
    {
     "data": {
      "text/plain": [
       "(240, 4)"
      ]
     },
     "execution_count": 7,
     "metadata": {},
     "output_type": "execute_result"
    }
   ],
   "source": [
    "df.shape"
   ]
  },
  {
   "cell_type": "code",
   "execution_count": 8,
   "metadata": {
    "scrolled": true
   },
   "outputs": [],
   "source": [
    "#exporting data into an excel file\n",
    "df.to_csv('IndeedJobs.csv')"
   ]
  }
 ],
 "metadata": {
  "kernelspec": {
   "display_name": "Python 3",
   "language": "python",
   "name": "python3"
  },
  "language_info": {
   "codemirror_mode": {
    "name": "ipython",
    "version": 3
   },
   "file_extension": ".py",
   "mimetype": "text/x-python",
   "name": "python",
   "nbconvert_exporter": "python",
   "pygments_lexer": "ipython3",
   "version": "3.8.3"
  }
 },
 "nbformat": 4,
 "nbformat_minor": 4
}
